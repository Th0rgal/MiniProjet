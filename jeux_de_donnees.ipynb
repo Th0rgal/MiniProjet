{
 "cells": [
  {
   "cell_type": "markdown",
   "metadata": {},
   "source": [
    "# Jeux de données fournis"
   ]
  },
  {
   "cell_type": "code",
   "execution_count": 8,
   "metadata": {},
   "outputs": [
    {
     "output_type": "stream",
     "name": "stdout",
     "text": [
      "The autoreload extension is already loaded. To reload it, use:\n  %reload_ext autoreload\n"
     ]
    }
   ],
   "source": [
    "%load_ext autoreload\n",
    "%autoreload 2\n",
    "data_dir = \"./data/\"\n",
    "#from utilities import *\n",
    "\n"
   ]
  },
  {
   "cell_type": "code",
   "execution_count": 9,
   "metadata": {},
   "outputs": [
    {
     "output_type": "stream",
     "name": "stdout",
     "text": [
      "/run/current-system/sw/bin/bash: -c: ligne 0: erreur de syntaxe près du symbole inattendu « ( »\n/run/current-system/sw/bin/bash: -c: ligne 0: `ls -F --color (data_dir)'\n"
     ]
    }
   ],
   "source": [
    "ls(data_dir)"
   ]
  },
  {
   "cell_type": "markdown",
   "metadata": {},
   "source": [
    "## Poules et canards"
   ]
  },
  {
   "cell_type": "code",
   "execution_count": null,
   "metadata": {},
   "outputs": [],
   "source": [
    "dataset_dir = os.path.join(data_dir, 'Farm')\n",
    "images = load_images(dataset_dir, \"*.jpeg\")\n",
    "image_grid(images, titles=images.index)"
   ]
  },
  {
   "cell_type": "markdown",
   "metadata": {},
   "source": [
    "## Paumes et dos de mains"
   ]
  },
  {
   "cell_type": "code",
   "execution_count": null,
   "metadata": {},
   "outputs": [],
   "source": [
    "dataset_dir = os.path.join(data_dir, 'Hands')\n",
    "images = load_images(dataset_dir, \"*.jpeg\")\n",
    "image_grid(images, titles=images.index)"
   ]
  },
  {
   "cell_type": "markdown",
   "metadata": {},
   "source": [
    "## Mélanomes malins et bénins"
   ]
  },
  {
   "cell_type": "code",
   "execution_count": null,
   "metadata": {},
   "outputs": [],
   "source": [
    "dataset_dir = os.path.join(data_dir, 'Melanoma')\n",
    "images = load_images(dataset_dir, \"*.jpg\")\n",
    "image_grid(images, titles=images.index)"
   ]
  },
  {
   "cell_type": "markdown",
   "metadata": {},
   "source": [
    "## Smileys gais et tristes"
   ]
  },
  {
   "cell_type": "code",
   "execution_count": null,
   "metadata": {},
   "outputs": [],
   "source": [
    "dataset_dir = os.path.join(data_dir, 'Smiley')\n",
    "images = load_images(dataset_dir, \"*.png\")\n",
    "image_grid(images, titles=images.index)"
   ]
  },
  {
   "cell_type": "markdown",
   "metadata": {},
   "source": [
    "## Zéros et uns manuscrits"
   ]
  },
  {
   "cell_type": "code",
   "execution_count": null,
   "metadata": {},
   "outputs": [],
   "source": [
    "dataset_dir = os.path.join(data_dir, 'ZeroOne')\n",
    "images = load_images(dataset_dir, \"*.png\")\n",
    "image_grid(images, titles=images.index)"
   ]
  }
 ],
 "metadata": {
  "kernelspec": {
   "display_name": "Python 3",
   "language": "python",
   "name": "python3"
  }
 },
 "nbformat": 4,
 "nbformat_minor": 5
}