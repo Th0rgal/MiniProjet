{
 "cells": [
  {
   "cell_type": "markdown",
   "metadata": {
    "deletable": false,
    "editable": false,
    "nbgrader": {
     "cell_type": "markdown",
     "checksum": "d54b8504a3382563270f08cba78c634c",
     "grade": false,
     "grade_id": "cell-4911a792a82448d7",
     "locked": true,
     "schema_version": 3,
     "solution": false
    }
   },
   "source": [
    "# Semaine 3"
   ]
  },
  {
   "cell_type": "markdown",
   "metadata": {
    "deletable": false,
    "editable": false,
    "nbgrader": {
     "cell_type": "markdown",
     "checksum": "a33eca0ce2fcb487d732aa6db32a3a04",
     "grade": false,
     "grade_id": "cell-4911a792a82448d8",
     "locked": true,
     "schema_version": 3,
     "solution": false
    }
   },
   "source": [
    "## Consignes\n",
    "\n",
    "Avant mardi 6 à minuit:\n",
    "- Relire les [diapos du cours 3](http://nicolas.thiery.name/Enseignement/IntroScienceDonnees/Cours/Chapter3.pptx)\n",
    "- Répondre au [quizz](https://ecampus.paris-saclay.fr/mod/quiz/view.php?id=487889) sur eCampus (5 points).\n",
    "- Rendu d'étape du TP (voir ci-dessous)"
   ]
  },
  {
   "cell_type": "markdown",
   "metadata": {
    "deletable": false,
    "editable": false,
    "nbgrader": {
     "cell_type": "markdown",
     "checksum": "b717f09ab81fa26b9ef87813baa08e24",
     "grade": false,
     "grade_id": "cell-4911a792a82448d9",
     "locked": true,
     "schema_version": 3,
     "solution": false
    }
   },
   "source": [
    "## TP: votre première analyse de données\n",
    "\n",
    "### Objectif\n",
    "\n",
    "La semaine dernière, vous vous êtes familiarisé avec le schéma\n",
    "VI-ME-BA-BAR -- [VI]sualisation, [MÉ]trique, Référence (*[BA]se*),\n",
    "[BAR]res d'erreur -- en\n",
    "reproduisant une analyse de données préexistante dont l'objet était de\n",
    "classifier pommes et bananes à partir de photographies. Maintenant,\n",
    "c'est à vous de jouer! Vous allez effectuer en binôme votre propre\n",
    "analyse de données.\n",
    "\n",
    "Vous commencerez par travailler sur l'un des [jeux de données\n",
    "fournis](jeux_de_donnees.ipynb), pour classifier poules et canards,\n",
    "mélanomes cancéreux et bénins, émoticons tristes et gais, paumes et\n",
    "dos de la main, chiffres manuscrits zéro et un.\n",
    "\n",
    "Mais il sera nettement plus intéressant (et amusant!) de travailler\n",
    "sur vos propres images et cela sera récompensé par un bonus si vous le\n",
    "faites. Choisissez vingt images qui se répartissent en deux classes;\n",
    "vous pouvez prendre des photos vous même, ou télécharger des images\n",
    "sur internet (après en avoir vérifié la licence!). Votre défi sera de\n",
    "retrouver ces deux classes automatiquement uniquement à partir du\n",
    "contenu des images, comme pour nos pommes et bananes. Vous veillerez à\n",
    "ce que votre défi ne soit ni trop simple, ni trop compliqué, et\n",
    "confirmerez sa pertinence avec votre enseignant ou enseignante. Vous\n",
    "aurez un bonus pour tout le travail de préparation des données.\n",
    "\n",
    "Ce travail sera l'objet du premier mini-projet (ou TP long) qui va se\n",
    "dérouler sur les trois semaines qui viennent:\n",
    "\n",
    "Semaine 3: 29 mars-2 avril (dépôt 6 avril minuit)\n",
    "- Choix du binôme (voir annonce sur e-Campus et document partagé)\n",
    "- En TP: choisir l'un des jeux de données fournis. Faire tourner\n",
    "  l'analyse de données en entier dessus avec des attributs\n",
    "  (*features*) simples et un premier classifieur, afin d'obtenir une\n",
    "  performance de référence (*baseline*) pour ce jeu de données.\n",
    "- Chez vous: choix et préparation de votre jeu d'image définitif;\n",
    "  refaire tourner l'analyse de donnée en entier pour obtenir une\n",
    "  performance de référence.\n",
    "\n",
    "Semaine 4: 5-9 avril (dépôt 13 avril minuit)\n",
    "- Extraction d'attributs plus fins; évaluation de la performance.\n",
    "\n",
    "Semaine 5: 12-16 avril (dépôt 20 avril minuit)\n",
    "- Implantation d'un classifieur; évaluation de la performance.\n",
    "\n",
    "Vous déposerez chaque semaine votre travail dans son état d'avancement\n",
    "avant mardi minuit. Votre version définitive (mardi 20 avril) sera\n",
    "évaluée par vos enseignants (15 points)."
   ]
  },
  {
   "cell_type": "markdown",
   "metadata": {
    "deletable": false,
    "editable": false,
    "nbgrader": {
     "cell_type": "markdown",
     "checksum": "30557f2482240282bbefe311533c52a1",
     "grade": false,
     "grade_id": "cell-4911a792a82448dA",
     "locked": true,
     "schema_version": 3,
     "solution": false
    }
   },
   "source": [
    "### Consignes\n",
    "\n",
    "Vous documenterez au fur et à mesure votre analyse de données dans le\n",
    "document exécutable [analyse de données](analyse_de_donnees.ipynb), en\n",
    "suivant la trame fournie. Gardez notamment une trace des\n",
    "expérimentations intermédiaires («nous avons essayé telle combinaison\n",
    "de features; voici les résultats et la performance obtenue»). Ce\n",
    "document devra rester à tout moment synthétique, suivant notamment les\n",
    "[bonnes pratiques](../Semaine2/best_practices_executable_documents.ipynb)\n",
    "expliquées lors du TP 2.\n",
    "- Vous mettrez dans le fichier `utilities.py` les utilitaires du TP2\n",
    "  (`load_images`, ...)  que vous souhaiterez réutiliser, ainsi que vos\n",
    "  nouvelles fonctions.\n",
    "- Lorsque pertinent pour les explications, vous pourrez afficher le\n",
    "  code de vos fonctions avec `show_source`.\n",
    "- Complétez régulièrement le document de [revue de\n",
    "  code](revue_de_code.ipynb) pour qu'il affiche le code de toutes les\n",
    "  fonctions que vous avez implantées. Vérifiez à chaque fois le résultat\n",
    "  des outils de vérifications (`flake8`, ...).\n",
    "- Lorsque vous aurez besoin de brouillon -- par exemple pour mettre au\n",
    "  point du code -- créez des petites feuilles Jupyter séparées pour ne\n",
    "  pas polluer votre document.\n",
    "- Mettez votre propre jeu de données dans un sous-dossier `data`, en\n",
    "  suivant les mêmes conventions de nommage que dans les autres jeux de\n",
    "  données: `a01.jpg` -> `a10.jpg` pour les images de la première\n",
    "  classe; `b01.jpg` -> `b10.jpg` pour celles de la deuxième. Vérifiez\n",
    "  au préalable la taille individuelle des images; si elle dépasse,\n",
    "  mettons, 100~ko par image, réduisez la résolution pour limiter les\n",
    "  temps de calcul et la taille de votre dépôt. Vous pouvez pour cela\n",
    "  utiliser la commande `mogrify -geometry 64x64 *.jpg`. Assurez-vous\n",
    "  que le répertoire `data` ne contienne rien d'autre. Lorsque vous\n",
    "  avez terminé, utilisez les commandes suivantes pour rajouter les\n",
    "  fichiers dans votre dépôt git:\n",
    "  \n",
    "      cd ~/IntroScienceDonnees/Semaine3\n",
    "      git add data\n",
    "  \n",
    "La qualité de la rédaction sera l'un des critères d'évaluation. Vous\n",
    "pouvez rédiger votre analyse de données soit en français, soit en\n",
    "anglais (mais pas un mélange des deux!). Un bonus sera accordé à ceux\n",
    "qui choisiront l'anglais."
   ]
  },
  {
   "cell_type": "markdown",
   "metadata": {
    "deletable": false,
    "editable": false,
    "nbgrader": {
     "cell_type": "markdown",
     "checksum": "79b95b10075911b86f5b86034f91cb55",
     "grade": false,
     "grade_id": "cell-4911a792a82448dB",
     "locked": true,
     "schema_version": 3,
     "solution": false
    }
   },
   "source": [
    "### Au travail!\n",
    "\n",
    "1.  Relisez les\n",
    "    [instructions](http://nicolas.thiery.name/Enseignement/IntroScienceDonnees/Students/Semaine1/index.html#telechargement-et-depot-des-tps)\n",
    "    pour le téléchargement et le dépôt des TPs, ainsi que les \n",
    "\t[bonnes pratiques](http://nicolas.thiery.name/Enseignement/IntroScienceDonnees/Students/Semaine1/index.html#bonnes-pratiques).\n",
    "2.  Téléchargez le sujet de TP `Semaine3`.\n",
    "3.  Ouvrez la feuille [index](index.ipynb) pour retrouver ces consignes.\n",
    "4.  Effectuez votre analyse de données dans\n",
    "    [analyse_de_donnees](analyse_de_donnees.ipynb), en suivant les\n",
    "    instructions indiquées\n",
    "5.  Vérifiez régulièrement votre code à l'aide de la feuille\n",
    "    [revue_de_code](revue_de_code.ipynb)."
   ]
  },
  {
   "cell_type": "markdown",
   "metadata": {
    "deletable": false,
    "editable": false,
    "nbgrader": {
     "cell_type": "markdown",
     "checksum": "7abc8cedda6792dd9ee7656381643e3b",
     "grade": false,
     "grade_id": "cell-4911a792a82448dE",
     "locked": true,
     "schema_version": 3,
     "solution": false
    }
   },
   "source": [
    "Bon TP!"
   ]
  }
 ],
 "metadata": {
  "kernelspec": {
   "display_name": "Python 3",
   "language": "python",
   "name": "python3"
  }
 },
 "nbformat": 4,
 "nbformat_minor": 5
}
