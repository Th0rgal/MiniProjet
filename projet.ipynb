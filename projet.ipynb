{
 "metadata": {
  "language_info": {
   "codemirror_mode": {
    "name": "ipython",
    "version": 3
   },
   "file_extension": ".py",
   "mimetype": "text/x-python",
   "name": "python",
   "nbconvert_exporter": "python",
   "pygments_lexer": "ipython3",
   "version": "3.8.3"
  },
  "orig_nbformat": 2,
  "kernelspec": {
   "name": "python3",
   "display_name": "Python 3",
   "language": "python"
  }
 },
 "nbformat": 4,
 "nbformat_minor": 2,
 "cells": [
  {
   "source": [
    "# Devinons l'humeur d'une musique\n",
    "\n",
    "L'objectif de ce projet est de pouvoir automatiquement déterminer si une musique est triste ou bien joyeuse. Pour cela nous allons utiliser la librairie [librosa](https://librosa.org/doc/latest/index.html). Cette dernière nous permettra de visualiser et d'obtenir des informations sur les musiques.\n",
    "Nous avons téléchargé 10 musiques \"tristes\" et 10 musiques \"joyeuses\". Elles sont placées dans le dossier ./data/musics/ et commence par a pour les musiques joyeuses et b pour les musiques tristes."
   ],
   "cell_type": "markdown",
   "metadata": {}
  },
  {
   "cell_type": "code",
   "execution_count": 1,
   "metadata": {},
   "outputs": [],
   "source": [
    "%load_ext autoreload\n",
    "%autoreload 2\n",
    "data_dir = \"./data/\"\n",
    "from utilities import *"
   ]
  },
  {
   "cell_type": "code",
   "execution_count": 2,
   "metadata": {},
   "outputs": [],
   "source": [
    "import librosa # for working with audio in python\n",
    "import librosa.display # for waveplots, spectograms, etc\n",
    "import soundfile as sf # for accessing file information\n",
    "import IPython.display as ipd # for playing files within python\n",
    "import numpy as np\n",
    "import pandas as pd\n",
    "import matplotlib.pyplot as plt\n",
    "import seaborn as sns\n",
    "%matplotlib inline"
   ]
  },
  {
   "source": [
    "## A quoi ça ressemble ?\n",
    "Notre première étape va être de visualiser nos données. Peut-être que ça nous donnera des idées de features."
   ],
   "cell_type": "markdown",
   "metadata": {}
  },
  {
   "cell_type": "code",
   "execution_count": 3,
   "metadata": {},
   "outputs": [
    {
     "output_type": "stream",
     "name": "stdout",
     "text": [
      "./data/musics/a01.wav\nsamplerate: 44100 Hz\nchannels: 2\nduration: 03:51.410 min\nformat: WAV (Microsoft) [WAV]\nsubtype: Signed 16 bit PCM [PCM_16]\n./data/musics/a02.wav\nsamplerate: 44100 Hz\nchannels: 2\nduration: 03:22.524 min\nformat: WAV (Microsoft) [WAV]\nsubtype: Signed 16 bit PCM [PCM_16]\n./data/musics/a03.wav\nsamplerate: 44100 Hz\nchannels: 2\nduration: 04:8.848 min\nformat: WAV (Microsoft) [WAV]\nsubtype: Signed 16 bit PCM [PCM_16]\n./data/musics/a04.wav\nsamplerate: 44100 Hz\nchannels: 2\nduration: 04:26.774 min\nformat: WAV (Microsoft) [WAV]\nsubtype: Signed 16 bit PCM [PCM_16]\n./data/musics/a05.wav\nsamplerate: 44100 Hz\nchannels: 2\nduration: 03:17.741 min\nformat: WAV (Microsoft) [WAV]\nsubtype: Signed 16 bit PCM [PCM_16]\n./data/musics/a06.wav\nsamplerate: 44100 Hz\nchannels: 2\nduration: 02:46.348 min\nformat: WAV (Microsoft) [WAV]\nsubtype: Signed 16 bit PCM [PCM_16]\n./data/musics/a07.wav\nsamplerate: 44100 Hz\nchannels: 2\nduration: 03:48.252 min\nformat: WAV (Microsoft) [WAV]\nsubtype: Signed 16 bit PCM [PCM_16]\n./data/musics/a08.wav\nsamplerate: 44100 Hz\nchannels: 2\nduration: 03:37.037 min\nformat: WAV (Microsoft) [WAV]\nsubtype: Signed 16 bit PCM [PCM_16]\n./data/musics/a09.wav\nsamplerate: 44100 Hz\nchannels: 2\nduration: 04:4.878 min\nformat: WAV (Microsoft) [WAV]\nsubtype: Signed 16 bit PCM [PCM_16]\n./data/musics/a10.wav\nsamplerate: 44100 Hz\nchannels: 2\nduration: 03:37.269 min\nformat: WAV (Microsoft) [WAV]\nsubtype: Signed 16 bit PCM [PCM_16]\n./data/musics/b01.wav\nsamplerate: 44100 Hz\nchannels: 2\nduration: 05:34.089 min\nformat: WAV (Microsoft) [WAV]\nsubtype: Signed 16 bit PCM [PCM_16]\n./data/musics/b02.wav\nsamplerate: 44100 Hz\nchannels: 2\nduration: 04:44.979 min\nformat: WAV (Microsoft) [WAV]\nsubtype: Signed 16 bit PCM [PCM_16]\n./data/musics/b03.wav\nsamplerate: 44100 Hz\nchannels: 2\nduration: 03:5.551 min\nformat: WAV (Microsoft) [WAV]\nsubtype: Signed 16 bit PCM [PCM_16]\n./data/musics/b04.wav\nsamplerate: 44100 Hz\nchannels: 2\nduration: 03:57.053 min\nformat: WAV (Microsoft) [WAV]\nsubtype: Signed 16 bit PCM [PCM_16]\n./data/musics/b05.wav\nsamplerate: 44100 Hz\nchannels: 2\nduration: 04:30.071 min\nformat: WAV (Microsoft) [WAV]\nsubtype: Signed 16 bit PCM [PCM_16]\n./data/musics/b06.wav\nsamplerate: 44100 Hz\nchannels: 2\nduration: 03:17.973 min\nformat: WAV (Microsoft) [WAV]\nsubtype: Signed 16 bit PCM [PCM_16]\n./data/musics/b07.wav\nsamplerate: 44100 Hz\nchannels: 2\nduration: 03:37.826 min\nformat: WAV (Microsoft) [WAV]\nsubtype: Signed 16 bit PCM [PCM_16]\n./data/musics/b09.wav\nsamplerate: 44100 Hz\nchannels: 2\nduration: 04:8.964 min\nformat: WAV (Microsoft) [WAV]\nsubtype: Signed 16 bit PCM [PCM_16]\n"
     ]
    }
   ],
   "source": [
    "musics = ls(\"./data/musics\")\n",
    "for music in musics:\n",
    "    info = sf.info(\"./data/musics/\" + music)\n",
    "    print(info)"
   ]
  },
  {
   "cell_type": "code",
   "execution_count": 15,
   "metadata": {},
   "outputs": [
    {
     "output_type": "stream",
     "name": "stdout",
     "text": [
      "231 ms ± 13.1 ms per loop (mean ± std. dev. of 7 runs, 1 loop each)\n"
     ]
    }
   ],
   "source": [
    "y,sr = librosa.load('./data/musics/a01.wav', offset=2, duration=3)\n",
    "\n",
    "df = pd.DataFrame(y, columns=['Amplitude'])\n",
    "\n",
    "df.index = [(1/sr)*i for i in range(len(df.index))]\n",
    "\n",
    "df"
   ]
  },
  {
   "cell_type": "code",
   "execution_count": 4,
   "metadata": {},
   "outputs": [],
   "source": [
    "\n",
    "musics = load_musics(data_dir + \"musics/\")"
   ]
  },
  {
   "cell_type": "code",
   "execution_count": 6,
   "metadata": {},
   "outputs": [
    {
     "output_type": "error",
     "ename": "ValueError",
     "evalue": "If using all scalar values, you must pass an index",
     "traceback": [
      "\u001b[0;31m---------------------------------------------------------------------------\u001b[0m",
      "\u001b[0;31mValueError\u001b[0m                                Traceback (most recent call last)",
      "\u001b[0;32m<ipython-input-6-2f6f5d4e8f23>\u001b[0m in \u001b[0;36m<module>\u001b[0;34m\u001b[0m\n\u001b[0;32m----> 1\u001b[0;31m df = pd.DataFrame({\n\u001b[0m\u001b[1;32m      2\u001b[0m         \u001b[0;34m'darkness'\u001b[0m \u001b[0;34m:\u001b[0m \u001b[0mmusics\u001b[0m\u001b[0;34m.\u001b[0m\u001b[0mapply\u001b[0m\u001b[0;34m(\u001b[0m\u001b[0mmean_amplitude\u001b[0m\u001b[0;34m)\u001b[0m\u001b[0;34m,\u001b[0m\u001b[0;34m\u001b[0m\u001b[0;34m\u001b[0m\u001b[0m\n\u001b[1;32m      3\u001b[0m         \u001b[0;31m#'classe':      images.index.map(lambda name: 1 if name[0] == 'a' else -1),\u001b[0m\u001b[0;34m\u001b[0m\u001b[0;34m\u001b[0m\u001b[0;34m\u001b[0m\u001b[0m\n\u001b[1;32m      4\u001b[0m })\n",
      "\u001b[0;32m~/miniconda3/lib/python3.8/site-packages/pandas/core/frame.py\u001b[0m in \u001b[0;36m__init__\u001b[0;34m(self, data, index, columns, dtype, copy)\u001b[0m\n\u001b[1;32m    527\u001b[0m \u001b[0;34m\u001b[0m\u001b[0m\n\u001b[1;32m    528\u001b[0m         \u001b[0;32melif\u001b[0m \u001b[0misinstance\u001b[0m\u001b[0;34m(\u001b[0m\u001b[0mdata\u001b[0m\u001b[0;34m,\u001b[0m \u001b[0mdict\u001b[0m\u001b[0;34m)\u001b[0m\u001b[0;34m:\u001b[0m\u001b[0;34m\u001b[0m\u001b[0;34m\u001b[0m\u001b[0m\n\u001b[0;32m--> 529\u001b[0;31m             \u001b[0mmgr\u001b[0m \u001b[0;34m=\u001b[0m \u001b[0minit_dict\u001b[0m\u001b[0;34m(\u001b[0m\u001b[0mdata\u001b[0m\u001b[0;34m,\u001b[0m \u001b[0mindex\u001b[0m\u001b[0;34m,\u001b[0m \u001b[0mcolumns\u001b[0m\u001b[0;34m,\u001b[0m \u001b[0mdtype\u001b[0m\u001b[0;34m=\u001b[0m\u001b[0mdtype\u001b[0m\u001b[0;34m)\u001b[0m\u001b[0;34m\u001b[0m\u001b[0;34m\u001b[0m\u001b[0m\n\u001b[0m\u001b[1;32m    530\u001b[0m         \u001b[0;32melif\u001b[0m \u001b[0misinstance\u001b[0m\u001b[0;34m(\u001b[0m\u001b[0mdata\u001b[0m\u001b[0;34m,\u001b[0m \u001b[0mma\u001b[0m\u001b[0;34m.\u001b[0m\u001b[0mMaskedArray\u001b[0m\u001b[0;34m)\u001b[0m\u001b[0;34m:\u001b[0m\u001b[0;34m\u001b[0m\u001b[0;34m\u001b[0m\u001b[0m\n\u001b[1;32m    531\u001b[0m             \u001b[0;32mimport\u001b[0m \u001b[0mnumpy\u001b[0m\u001b[0;34m.\u001b[0m\u001b[0mma\u001b[0m\u001b[0;34m.\u001b[0m\u001b[0mmrecords\u001b[0m \u001b[0;32mas\u001b[0m \u001b[0mmrecords\u001b[0m\u001b[0;34m\u001b[0m\u001b[0;34m\u001b[0m\u001b[0m\n",
      "\u001b[0;32m~/miniconda3/lib/python3.8/site-packages/pandas/core/internals/construction.py\u001b[0m in \u001b[0;36minit_dict\u001b[0;34m(data, index, columns, dtype)\u001b[0m\n\u001b[1;32m    285\u001b[0m             \u001b[0marr\u001b[0m \u001b[0;32mif\u001b[0m \u001b[0;32mnot\u001b[0m \u001b[0mis_datetime64tz_dtype\u001b[0m\u001b[0;34m(\u001b[0m\u001b[0marr\u001b[0m\u001b[0;34m)\u001b[0m \u001b[0;32melse\u001b[0m \u001b[0marr\u001b[0m\u001b[0;34m.\u001b[0m\u001b[0mcopy\u001b[0m\u001b[0;34m(\u001b[0m\u001b[0;34m)\u001b[0m \u001b[0;32mfor\u001b[0m \u001b[0marr\u001b[0m \u001b[0;32min\u001b[0m \u001b[0marrays\u001b[0m\u001b[0;34m\u001b[0m\u001b[0;34m\u001b[0m\u001b[0m\n\u001b[1;32m    286\u001b[0m         ]\n\u001b[0;32m--> 287\u001b[0;31m     \u001b[0;32mreturn\u001b[0m \u001b[0marrays_to_mgr\u001b[0m\u001b[0;34m(\u001b[0m\u001b[0marrays\u001b[0m\u001b[0;34m,\u001b[0m \u001b[0mdata_names\u001b[0m\u001b[0;34m,\u001b[0m \u001b[0mindex\u001b[0m\u001b[0;34m,\u001b[0m \u001b[0mcolumns\u001b[0m\u001b[0;34m,\u001b[0m \u001b[0mdtype\u001b[0m\u001b[0;34m=\u001b[0m\u001b[0mdtype\u001b[0m\u001b[0;34m)\u001b[0m\u001b[0;34m\u001b[0m\u001b[0;34m\u001b[0m\u001b[0m\n\u001b[0m\u001b[1;32m    288\u001b[0m \u001b[0;34m\u001b[0m\u001b[0m\n\u001b[1;32m    289\u001b[0m \u001b[0;34m\u001b[0m\u001b[0m\n",
      "\u001b[0;32m~/miniconda3/lib/python3.8/site-packages/pandas/core/internals/construction.py\u001b[0m in \u001b[0;36marrays_to_mgr\u001b[0;34m(arrays, arr_names, index, columns, dtype, verify_integrity)\u001b[0m\n\u001b[1;32m     78\u001b[0m         \u001b[0;31m# figure out the index, if necessary\u001b[0m\u001b[0;34m\u001b[0m\u001b[0;34m\u001b[0m\u001b[0;34m\u001b[0m\u001b[0m\n\u001b[1;32m     79\u001b[0m         \u001b[0;32mif\u001b[0m \u001b[0mindex\u001b[0m \u001b[0;32mis\u001b[0m \u001b[0;32mNone\u001b[0m\u001b[0;34m:\u001b[0m\u001b[0;34m\u001b[0m\u001b[0;34m\u001b[0m\u001b[0m\n\u001b[0;32m---> 80\u001b[0;31m             \u001b[0mindex\u001b[0m \u001b[0;34m=\u001b[0m \u001b[0mextract_index\u001b[0m\u001b[0;34m(\u001b[0m\u001b[0marrays\u001b[0m\u001b[0;34m)\u001b[0m\u001b[0;34m\u001b[0m\u001b[0;34m\u001b[0m\u001b[0m\n\u001b[0m\u001b[1;32m     81\u001b[0m         \u001b[0;32melse\u001b[0m\u001b[0;34m:\u001b[0m\u001b[0;34m\u001b[0m\u001b[0;34m\u001b[0m\u001b[0m\n\u001b[1;32m     82\u001b[0m             \u001b[0mindex\u001b[0m \u001b[0;34m=\u001b[0m \u001b[0mensure_index\u001b[0m\u001b[0;34m(\u001b[0m\u001b[0mindex\u001b[0m\u001b[0;34m)\u001b[0m\u001b[0;34m\u001b[0m\u001b[0;34m\u001b[0m\u001b[0m\n",
      "\u001b[0;32m~/miniconda3/lib/python3.8/site-packages/pandas/core/internals/construction.py\u001b[0m in \u001b[0;36mextract_index\u001b[0;34m(data)\u001b[0m\n\u001b[1;32m    389\u001b[0m \u001b[0;34m\u001b[0m\u001b[0m\n\u001b[1;32m    390\u001b[0m         \u001b[0;32mif\u001b[0m \u001b[0;32mnot\u001b[0m \u001b[0mindexes\u001b[0m \u001b[0;32mand\u001b[0m \u001b[0;32mnot\u001b[0m \u001b[0mraw_lengths\u001b[0m\u001b[0;34m:\u001b[0m\u001b[0;34m\u001b[0m\u001b[0;34m\u001b[0m\u001b[0m\n\u001b[0;32m--> 391\u001b[0;31m             \u001b[0;32mraise\u001b[0m \u001b[0mValueError\u001b[0m\u001b[0;34m(\u001b[0m\u001b[0;34m\"If using all scalar values, you must pass an index\"\u001b[0m\u001b[0;34m)\u001b[0m\u001b[0;34m\u001b[0m\u001b[0;34m\u001b[0m\u001b[0m\n\u001b[0m\u001b[1;32m    392\u001b[0m \u001b[0;34m\u001b[0m\u001b[0m\n\u001b[1;32m    393\u001b[0m         \u001b[0;32mif\u001b[0m \u001b[0mhave_series\u001b[0m\u001b[0;34m:\u001b[0m\u001b[0;34m\u001b[0m\u001b[0;34m\u001b[0m\u001b[0m\n",
      "\u001b[0;31mValueError\u001b[0m: If using all scalar values, you must pass an index"
     ]
    }
   ],
   "source": [
    "df = pd.DataFrame({\n",
    "\t'darkness' : musics.apply(mean_amplitude),\n",
    "\t'classe': musics.index.map(lambda name: 1 if name[0] == 'a' else -1),\n",
    "})"
   ]
  },
  {
   "cell_type": "code",
   "execution_count": null,
   "metadata": {},
   "outputs": [],
   "source": []
  }
 ]
}