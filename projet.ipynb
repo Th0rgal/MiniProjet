{
 "metadata": {
  "language_info": {
   "codemirror_mode": {
    "name": "ipython",
    "version": 3
   },
   "file_extension": ".py",
   "mimetype": "text/x-python",
   "name": "python",
   "nbconvert_exporter": "python",
   "pygments_lexer": "ipython3",
   "version": "3.8.3"
  },
  "orig_nbformat": 2,
  "kernelspec": {
   "name": "python3",
   "display_name": "Python 3",
   "language": "python"
  }
 },
 "nbformat": 4,
 "nbformat_minor": 2,
 "cells": [
  {
   "source": [
    "# Devinons l'humeur d'une musique\n",
    "\n",
    "L'objectif de ce projet est de pouvoir automatiquement déterminer si une musique est triste ou bien joyeuse. Pour cela nous allons utiliser la librairie [librosa](https://librosa.org/doc/latest/index.html). Cette dernière nous permettra de visualiser et d'obtenir des informations sur les musiques.\n",
    "Nous avons téléchargé 10 musiques \"tristes\" et 10 musiques \"joyeuses\". Elles sont placées dans le dossier ./data/musics/ et commence par a pour les musiques joyeuses et b pour les musiques tristes."
   ],
   "cell_type": "markdown",
   "metadata": {}
  },
  {
   "cell_type": "code",
   "execution_count": 1,
   "metadata": {},
   "outputs": [],
   "source": [
    "%load_ext autoreload\n",
    "%autoreload 2\n",
    "data_dir = \"./data/\"\n",
    "from utilities import *"
   ]
  },
  {
   "cell_type": "code",
   "execution_count": 2,
   "metadata": {},
   "outputs": [],
   "source": [
    "import librosa # for working with audio in python\n",
    "import librosa.display # for waveplots, spectograms, etc\n",
    "import soundfile as sf # for accessing file information\n",
    "import IPython.display as ipd # for playing files within python\n",
    "import numpy as np\n",
    "import pandas as pd\n",
    "import matplotlib.pyplot as plt\n",
    "import seaborn as sns\n",
    "%matplotlib inline"
   ]
  },
  {
   "source": [
    "## A quoi ça ressemble ?\n",
    "Notre première étape va être de visualiser nos données. Peut-être que ça nous donnera des idées de features."
   ],
   "cell_type": "markdown",
   "metadata": {}
  },
  {
   "cell_type": "code",
   "execution_count": 7,
   "metadata": {},
   "outputs": [
    {
     "output_type": "stream",
     "name": "stdout",
     "text": [
      "./data/musics/a01.wav\nsamplerate: 44100 Hz\nchannels: 2\nduration: 03:51.410 min\nformat: WAV (Microsoft) [WAV]\nsubtype: Signed 16 bit PCM [PCM_16]\n./data/musics/a02.wav\nsamplerate: 44100 Hz\nchannels: 2\nduration: 03:22.524 min\nformat: WAV (Microsoft) [WAV]\nsubtype: Signed 16 bit PCM [PCM_16]\n./data/musics/a03.wav\nsamplerate: 44100 Hz\nchannels: 2\nduration: 04:8.848 min\nformat: WAV (Microsoft) [WAV]\nsubtype: Signed 16 bit PCM [PCM_16]\n./data/musics/a04.wav\nsamplerate: 44100 Hz\nchannels: 2\nduration: 04:26.774 min\nformat: WAV (Microsoft) [WAV]\nsubtype: Signed 16 bit PCM [PCM_16]\n./data/musics/a05.wav\nsamplerate: 44100 Hz\nchannels: 2\nduration: 03:17.741 min\nformat: WAV (Microsoft) [WAV]\nsubtype: Signed 16 bit PCM [PCM_16]\n./data/musics/a06.wav\nsamplerate: 44100 Hz\nchannels: 2\nduration: 02:46.348 min\nformat: WAV (Microsoft) [WAV]\nsubtype: Signed 16 bit PCM [PCM_16]\n./data/musics/a07.wav\nsamplerate: 44100 Hz\nchannels: 2\nduration: 03:48.252 min\nformat: WAV (Microsoft) [WAV]\nsubtype: Signed 16 bit PCM [PCM_16]\n./data/musics/a08.wav\nsamplerate: 44100 Hz\nchannels: 2\nduration: 03:37.037 min\nformat: WAV (Microsoft) [WAV]\nsubtype: Signed 16 bit PCM [PCM_16]\n./data/musics/a09.wav\nsamplerate: 44100 Hz\nchannels: 2\nduration: 04:4.878 min\nformat: WAV (Microsoft) [WAV]\nsubtype: Signed 16 bit PCM [PCM_16]\n./data/musics/a10.wav\nsamplerate: 44100 Hz\nchannels: 2\nduration: 03:37.269 min\nformat: WAV (Microsoft) [WAV]\nsubtype: Signed 16 bit PCM [PCM_16]\n./data/musics/b01.wav\nsamplerate: 44100 Hz\nchannels: 2\nduration: 05:34.089 min\nformat: WAV (Microsoft) [WAV]\nsubtype: Signed 16 bit PCM [PCM_16]\n./data/musics/b02.wav\nsamplerate: 44100 Hz\nchannels: 2\nduration: 04:44.979 min\nformat: WAV (Microsoft) [WAV]\nsubtype: Signed 16 bit PCM [PCM_16]\n./data/musics/b03.wav\nsamplerate: 44100 Hz\nchannels: 2\nduration: 03:5.551 min\nformat: WAV (Microsoft) [WAV]\nsubtype: Signed 16 bit PCM [PCM_16]\n./data/musics/b04.wav\nsamplerate: 44100 Hz\nchannels: 2\nduration: 03:57.053 min\nformat: WAV (Microsoft) [WAV]\nsubtype: Signed 16 bit PCM [PCM_16]\n./data/musics/b05.wav\nsamplerate: 44100 Hz\nchannels: 2\nduration: 04:30.071 min\nformat: WAV (Microsoft) [WAV]\nsubtype: Signed 16 bit PCM [PCM_16]\n./data/musics/b06.wav\nsamplerate: 44100 Hz\nchannels: 2\nduration: 03:17.973 min\nformat: WAV (Microsoft) [WAV]\nsubtype: Signed 16 bit PCM [PCM_16]\n./data/musics/b07.wav\nsamplerate: 44100 Hz\nchannels: 2\nduration: 03:37.826 min\nformat: WAV (Microsoft) [WAV]\nsubtype: Signed 16 bit PCM [PCM_16]\n./data/musics/b09.wav\nsamplerate: 44100 Hz\nchannels: 2\nduration: 04:8.964 min\nformat: WAV (Microsoft) [WAV]\nsubtype: Signed 16 bit PCM [PCM_16]\n"
     ]
    }
   ],
   "source": [
    "musics = ls(\"./data/musics\")\n",
    "for music in musics:\n",
    "    info = sf.info(\"./data/musics/\" + music)\n",
    "    print(info)"
   ]
  },
  {
   "cell_type": "code",
   "execution_count": 15,
   "metadata": {},
   "outputs": [
    {
     "output_type": "stream",
     "name": "stdout",
     "text": [
      "231 ms ± 13.1 ms per loop (mean ± std. dev. of 7 runs, 1 loop each)\n"
     ]
    }
   ],
   "source": [
    "y,sr = librosa.load('./data/musics/a01.wav', offset=2, duration=3)\n",
    "\n",
    "df = pd.DataFrame(y, columns=['Amplitude'])\n",
    "\n",
    "df.index = [(1/sr)*i for i in range(len(df.index))]\n",
    "\n",
    "df"
   ]
  },
  {
   "cell_type": "code",
   "execution_count": 13,
   "metadata": {},
   "outputs": [
    {
     "output_type": "execute_result",
     "data": {
      "text/plain": [
       "Amplitude   -0.000119\n",
       "dtype: float32"
      ]
     },
     "metadata": {},
     "execution_count": 13
    }
   ],
   "source": [
    "df.mean()"
   ]
  },
  {
   "cell_type": "code",
   "execution_count": null,
   "metadata": {},
   "outputs": [],
   "source": []
  }
 ]
}