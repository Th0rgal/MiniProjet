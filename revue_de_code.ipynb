{
 "cells": [
  {
   "cell_type": "markdown",
   "metadata": {
    "deletable": false,
    "editable": false,
    "nbgrader": {
     "cell_type": "markdown",
     "checksum": "44cf4126242c8dc2fc69d0667b4f779f",
     "grade": false,
     "grade_id": "cell-968213bd3d7acded",
     "locked": true,
     "points": 2,
     "schema_version": 3,
     "solution": false,
     "task": true
    }
   },
   "source": [
    "# Revue de code\n",
    "\n",
    "Cette feuille vous permet à vous et votre instructeur d'évaluer\n",
    "rapidement la qualité de votre code. Elle s'appuye notamment sur\n",
    "l'outil `flake8` qui vérifie que votre code respecte les conventions\n",
    "de codage usuelles de Python, telles que définies notamment par le\n",
    "document [PEP 8](https://www.python.org/dev/peps/pep-0008/). Si la\n",
    "cellule suivante affiche des avertissements, suivez les indications\n",
    "données pour peaufiner votre code."
   ]
  },
  {
   "cell_type": "code",
   "execution_count": 1,
   "metadata": {
    "deletable": false,
    "editable": false,
    "nbgrader": {
     "cell_type": "code",
     "checksum": "4b4e38c706372311d22dc5ed958117db",
     "grade": false,
     "grade_id": "cell-ce5cf24a9e83ff0e",
     "locked": true,
     "schema_version": 3,
     "solution": false,
     "task": false
    }
   },
   "outputs": [],
   "source": [
    "!flake8 utilities.py"
   ]
  },
  {
   "cell_type": "markdown",
   "metadata": {
    "deletable": false,
    "editable": false,
    "nbgrader": {
     "cell_type": "markdown",
     "checksum": "262bc269b193430150991dce11046e27",
     "grade": false,
     "grade_id": "cell-f71789cc0d1d301e",
     "locked": true,
     "schema_version": 3,
     "solution": false,
     "task": false
    }
   },
   "source": [
    "Cette cellule signale une erreur s'il reste des avertissements non corrigés:"
   ]
  },
  {
   "cell_type": "code",
   "execution_count": 2,
   "metadata": {
    "deletable": false,
    "editable": false,
    "nbgrader": {
     "cell_type": "code",
     "checksum": "49e7e699711c11f6d7d0853bec7071f3",
     "grade": true,
     "grade_id": "cell-c2dade1bd6fe0fa2",
     "locked": true,
     "points": 1,
     "schema_version": 3,
     "solution": false,
     "task": false
    }
   },
   "outputs": [],
   "source": [
    "import subprocess\n",
    "subprocess.run([\"flake8\", \"utilities.py\"], check=True);"
   ]
  },
  {
   "cell_type": "code",
   "execution_count": 3,
   "metadata": {
    "deletable": false,
    "editable": false,
    "nbgrader": {
     "cell_type": "code",
     "checksum": "f9927335fbe9ee22dd358ad42bf5ad9c",
     "grade": false,
     "grade_id": "cell-02fdfd0f26c0bf83",
     "locked": true,
     "schema_version": 3,
     "solution": false,
     "task": false
    }
   },
   "outputs": [],
   "source": [
    "from utilities import *"
   ]
  },
  {
   "cell_type": "markdown",
   "metadata": {
    "deletable": false,
    "editable": false,
    "nbgrader": {
     "cell_type": "markdown",
     "checksum": "cc221a9f4dcf88797575b75d1d34ec3e",
     "grade": false,
     "grade_id": "cell-65669d74fb4c5c28",
     "locked": true,
     "schema_version": 3,
     "solution": false,
     "task": false
    }
   },
   "source": [
    "Faites afficher ci-dessous le code de toutes vos fonctions:"
   ]
  },
  {
   "cell_type": "code",
   "execution_count": 4,
   "metadata": {
    "deletable": false,
    "editable": false,
    "nbgrader": {
     "cell_type": "code",
     "checksum": "56d258ce4d12ec8073a5ba53702311e2",
     "grade": false,
     "grade_id": "cell-006fb180e6a86e73",
     "locked": true,
     "schema_version": 3,
     "solution": false,
     "task": false
    }
   },
   "outputs": [
    {
     "output_type": "display_data",
     "data": {
      "text/plain": "<IPython.core.display.HTML object>",
      "text/html": "<style>pre { line-height: 125%; }\ntd.linenos .normal { color: inherit; background-color: transparent; padding-left: 5px; padding-right: 5px; }\nspan.linenos { color: inherit; background-color: transparent; padding-left: 5px; padding-right: 5px; }\ntd.linenos .special { color: #000000; background-color: #ffffc0; padding-left: 5px; padding-right: 5px; }\nspan.linenos.special { color: #000000; background-color: #ffffc0; padding-left: 5px; padding-right: 5px; }\n.pygments .hll { background-color: #ffffcc }\n.pygments { background: #f8f8f8; }\n.pygments .c { color: #408080; font-style: italic } /* Comment */\n.pygments .err { border: 1px solid #FF0000 } /* Error */\n.pygments .k { color: #008000; font-weight: bold } /* Keyword */\n.pygments .o { color: #666666 } /* Operator */\n.pygments .ch { color: #408080; font-style: italic } /* Comment.Hashbang */\n.pygments .cm { color: #408080; font-style: italic } /* Comment.Multiline */\n.pygments .cp { color: #BC7A00 } /* Comment.Preproc */\n.pygments .cpf { color: #408080; font-style: italic } /* Comment.PreprocFile */\n.pygments .c1 { color: #408080; font-style: italic } /* Comment.Single */\n.pygments .cs { color: #408080; font-style: italic } /* Comment.Special */\n.pygments .gd { color: #A00000 } /* Generic.Deleted */\n.pygments .ge { font-style: italic } /* Generic.Emph */\n.pygments .gr { color: #FF0000 } /* Generic.Error */\n.pygments .gh { color: #000080; font-weight: bold } /* Generic.Heading */\n.pygments .gi { color: #00A000 } /* Generic.Inserted */\n.pygments .go { color: #888888 } /* Generic.Output */\n.pygments .gp { color: #000080; font-weight: bold } /* Generic.Prompt */\n.pygments .gs { font-weight: bold } /* Generic.Strong */\n.pygments .gu { color: #800080; font-weight: bold } /* Generic.Subheading */\n.pygments .gt { color: #0044DD } /* Generic.Traceback */\n.pygments .kc { color: #008000; font-weight: bold } /* Keyword.Constant */\n.pygments .kd { color: #008000; font-weight: bold } /* Keyword.Declaration */\n.pygments .kn { color: #008000; font-weight: bold } /* Keyword.Namespace */\n.pygments .kp { color: #008000 } /* Keyword.Pseudo */\n.pygments .kr { color: #008000; font-weight: bold } /* Keyword.Reserved */\n.pygments .kt { color: #B00040 } /* Keyword.Type */\n.pygments .m { color: #666666 } /* Literal.Number */\n.pygments .s { color: #BA2121 } /* Literal.String */\n.pygments .na { color: #7D9029 } /* Name.Attribute */\n.pygments .nb { color: #008000 } /* Name.Builtin */\n.pygments .nc { color: #0000FF; font-weight: bold } /* Name.Class */\n.pygments .no { color: #880000 } /* Name.Constant */\n.pygments .nd { color: #AA22FF } /* Name.Decorator */\n.pygments .ni { color: #999999; font-weight: bold } /* Name.Entity */\n.pygments .ne { color: #D2413A; font-weight: bold } /* Name.Exception */\n.pygments .nf { color: #0000FF } /* Name.Function */\n.pygments .nl { color: #A0A000 } /* Name.Label */\n.pygments .nn { color: #0000FF; font-weight: bold } /* Name.Namespace */\n.pygments .nt { color: #008000; font-weight: bold } /* Name.Tag */\n.pygments .nv { color: #19177C } /* Name.Variable */\n.pygments .ow { color: #AA22FF; font-weight: bold } /* Operator.Word */\n.pygments .w { color: #bbbbbb } /* Text.Whitespace */\n.pygments .mb { color: #666666 } /* Literal.Number.Bin */\n.pygments .mf { color: #666666 } /* Literal.Number.Float */\n.pygments .mh { color: #666666 } /* Literal.Number.Hex */\n.pygments .mi { color: #666666 } /* Literal.Number.Integer */\n.pygments .mo { color: #666666 } /* Literal.Number.Oct */\n.pygments .sa { color: #BA2121 } /* Literal.String.Affix */\n.pygments .sb { color: #BA2121 } /* Literal.String.Backtick */\n.pygments .sc { color: #BA2121 } /* Literal.String.Char */\n.pygments .dl { color: #BA2121 } /* Literal.String.Delimiter */\n.pygments .sd { color: #BA2121; font-style: italic } /* Literal.String.Doc */\n.pygments .s2 { color: #BA2121 } /* Literal.String.Double */\n.pygments .se { color: #BB6622; font-weight: bold } /* Literal.String.Escape */\n.pygments .sh { color: #BA2121 } /* Literal.String.Heredoc */\n.pygments .si { color: #BB6688; font-weight: bold } /* Literal.String.Interpol */\n.pygments .sx { color: #008000 } /* Literal.String.Other */\n.pygments .sr { color: #BB6688 } /* Literal.String.Regex */\n.pygments .s1 { color: #BA2121 } /* Literal.String.Single */\n.pygments .ss { color: #19177C } /* Literal.String.Symbol */\n.pygments .bp { color: #008000 } /* Name.Builtin.Pseudo */\n.pygments .fm { color: #0000FF } /* Name.Function.Magic */\n.pygments .vc { color: #19177C } /* Name.Variable.Class */\n.pygments .vg { color: #19177C } /* Name.Variable.Global */\n.pygments .vi { color: #19177C } /* Name.Variable.Instance */\n.pygments .vm { color: #19177C } /* Name.Variable.Magic */\n.pygments .il { color: #666666 } /* Literal.Number.Integer.Long */</style><div class=\"pygments\"><pre><span></span><span class=\"k\">def</span> <span class=\"nf\">show_color_channels</span><span class=\"p\">(</span><span class=\"n\">img</span><span class=\"p\">:</span> <span class=\"n\">Image</span><span class=\"o\">.</span><span class=\"n\">Image</span><span class=\"p\">)</span> <span class=\"o\">-&gt;</span> <span class=\"n\">Figure</span><span class=\"p\">:</span>\n    <span class=\"sd\">&quot;&quot;&quot;</span>\n<span class=\"sd\">    Return a figure displaying the image together with its red, green, and blue layers</span>\n<span class=\"sd\">    &quot;&quot;&quot;</span>\n    <span class=\"n\">M</span> <span class=\"o\">=</span> <span class=\"n\">np</span><span class=\"o\">.</span><span class=\"n\">array</span><span class=\"p\">(</span><span class=\"n\">img</span><span class=\"p\">)</span>\n    <span class=\"n\">fig</span> <span class=\"o\">=</span> <span class=\"n\">Figure</span><span class=\"p\">(</span><span class=\"n\">figsize</span><span class=\"o\">=</span><span class=\"p\">(</span><span class=\"mi\">30</span><span class=\"p\">,</span> <span class=\"mi\">5</span><span class=\"p\">))</span>\n    <span class=\"p\">(</span><span class=\"n\">ax</span><span class=\"p\">,</span> <span class=\"n\">axr</span><span class=\"p\">,</span> <span class=\"n\">axg</span><span class=\"p\">,</span> <span class=\"n\">axb</span><span class=\"p\">)</span> <span class=\"o\">=</span> <span class=\"n\">fig</span><span class=\"o\">.</span><span class=\"n\">subplots</span><span class=\"p\">(</span><span class=\"mi\">1</span><span class=\"p\">,</span> <span class=\"mi\">4</span><span class=\"p\">)</span>  <span class=\"c1\"># Quatre zones de dessin</span>\n    <span class=\"c1\"># Dessin de l&#39;image et de ses trois couches</span>\n    <span class=\"n\">ax</span><span class=\"o\">.</span><span class=\"n\">imshow</span><span class=\"p\">(</span><span class=\"n\">M</span><span class=\"p\">)</span>\n    <span class=\"n\">imgr</span> <span class=\"o\">=</span> <span class=\"n\">axr</span><span class=\"o\">.</span><span class=\"n\">imshow</span><span class=\"p\">(</span><span class=\"n\">M</span><span class=\"p\">[:,</span> <span class=\"p\">:,</span> <span class=\"mi\">0</span><span class=\"p\">],</span> <span class=\"n\">cmap</span><span class=\"o\">=</span><span class=\"n\">black_red_cmap</span><span class=\"p\">,</span> <span class=\"n\">vmin</span><span class=\"o\">=</span><span class=\"mi\">0</span><span class=\"p\">,</span> <span class=\"n\">vmax</span><span class=\"o\">=</span><span class=\"mi\">255</span><span class=\"p\">)</span>\n    <span class=\"n\">imgg</span> <span class=\"o\">=</span> <span class=\"n\">axg</span><span class=\"o\">.</span><span class=\"n\">imshow</span><span class=\"p\">(</span><span class=\"n\">M</span><span class=\"p\">[:,</span> <span class=\"p\">:,</span> <span class=\"mi\">1</span><span class=\"p\">],</span> <span class=\"n\">cmap</span><span class=\"o\">=</span><span class=\"n\">black_green_cmap</span><span class=\"p\">,</span> <span class=\"n\">vmin</span><span class=\"o\">=</span><span class=\"mi\">0</span><span class=\"p\">,</span> <span class=\"n\">vmax</span><span class=\"o\">=</span><span class=\"mi\">255</span><span class=\"p\">)</span>\n    <span class=\"n\">imgb</span> <span class=\"o\">=</span> <span class=\"n\">axb</span><span class=\"o\">.</span><span class=\"n\">imshow</span><span class=\"p\">(</span><span class=\"n\">M</span><span class=\"p\">[:,</span> <span class=\"p\">:,</span> <span class=\"mi\">2</span><span class=\"p\">],</span> <span class=\"n\">cmap</span><span class=\"o\">=</span><span class=\"n\">black_blue_cmap</span><span class=\"p\">,</span> <span class=\"n\">vmin</span><span class=\"o\">=</span><span class=\"mi\">0</span><span class=\"p\">,</span> <span class=\"n\">vmax</span><span class=\"o\">=</span><span class=\"mi\">255</span><span class=\"p\">)</span>\n    <span class=\"c1\"># Ajout des barres d&#39;échelle de couleur aux images</span>\n    <span class=\"n\">fig</span><span class=\"o\">.</span><span class=\"n\">colorbar</span><span class=\"p\">(</span><span class=\"n\">imgr</span><span class=\"p\">,</span> <span class=\"n\">ax</span><span class=\"o\">=</span><span class=\"n\">axr</span><span class=\"p\">)</span>\n    <span class=\"n\">fig</span><span class=\"o\">.</span><span class=\"n\">colorbar</span><span class=\"p\">(</span><span class=\"n\">imgg</span><span class=\"p\">,</span> <span class=\"n\">ax</span><span class=\"o\">=</span><span class=\"n\">axg</span><span class=\"p\">)</span>\n    <span class=\"n\">fig</span><span class=\"o\">.</span><span class=\"n\">colorbar</span><span class=\"p\">(</span><span class=\"n\">imgb</span><span class=\"p\">,</span> <span class=\"n\">ax</span><span class=\"o\">=</span><span class=\"n\">axb</span><span class=\"p\">)</span>\n\n    <span class=\"k\">return</span> <span class=\"n\">fig</span>\n</pre></div>\n"
     },
     "metadata": {}
    }
   ],
   "source": [
    "show_source(show_color_channels)"
   ]
  },
  {
   "cell_type": "code",
   "execution_count": 5,
   "metadata": {},
   "outputs": [
    {
     "output_type": "display_data",
     "data": {
      "text/plain": "<IPython.core.display.HTML object>",
      "text/html": "<style>pre { line-height: 125%; }\ntd.linenos .normal { color: inherit; background-color: transparent; padding-left: 5px; padding-right: 5px; }\nspan.linenos { color: inherit; background-color: transparent; padding-left: 5px; padding-right: 5px; }\ntd.linenos .special { color: #000000; background-color: #ffffc0; padding-left: 5px; padding-right: 5px; }\nspan.linenos.special { color: #000000; background-color: #ffffc0; padding-left: 5px; padding-right: 5px; }\n.pygments .hll { background-color: #ffffcc }\n.pygments { background: #f8f8f8; }\n.pygments .c { color: #408080; font-style: italic } /* Comment */\n.pygments .err { border: 1px solid #FF0000 } /* Error */\n.pygments .k { color: #008000; font-weight: bold } /* Keyword */\n.pygments .o { color: #666666 } /* Operator */\n.pygments .ch { color: #408080; font-style: italic } /* Comment.Hashbang */\n.pygments .cm { color: #408080; font-style: italic } /* Comment.Multiline */\n.pygments .cp { color: #BC7A00 } /* Comment.Preproc */\n.pygments .cpf { color: #408080; font-style: italic } /* Comment.PreprocFile */\n.pygments .c1 { color: #408080; font-style: italic } /* Comment.Single */\n.pygments .cs { color: #408080; font-style: italic } /* Comment.Special */\n.pygments .gd { color: #A00000 } /* Generic.Deleted */\n.pygments .ge { font-style: italic } /* Generic.Emph */\n.pygments .gr { color: #FF0000 } /* Generic.Error */\n.pygments .gh { color: #000080; font-weight: bold } /* Generic.Heading */\n.pygments .gi { color: #00A000 } /* Generic.Inserted */\n.pygments .go { color: #888888 } /* Generic.Output */\n.pygments .gp { color: #000080; font-weight: bold } /* Generic.Prompt */\n.pygments .gs { font-weight: bold } /* Generic.Strong */\n.pygments .gu { color: #800080; font-weight: bold } /* Generic.Subheading */\n.pygments .gt { color: #0044DD } /* Generic.Traceback */\n.pygments .kc { color: #008000; font-weight: bold } /* Keyword.Constant */\n.pygments .kd { color: #008000; font-weight: bold } /* Keyword.Declaration */\n.pygments .kn { color: #008000; font-weight: bold } /* Keyword.Namespace */\n.pygments .kp { color: #008000 } /* Keyword.Pseudo */\n.pygments .kr { color: #008000; font-weight: bold } /* Keyword.Reserved */\n.pygments .kt { color: #B00040 } /* Keyword.Type */\n.pygments .m { color: #666666 } /* Literal.Number */\n.pygments .s { color: #BA2121 } /* Literal.String */\n.pygments .na { color: #7D9029 } /* Name.Attribute */\n.pygments .nb { color: #008000 } /* Name.Builtin */\n.pygments .nc { color: #0000FF; font-weight: bold } /* Name.Class */\n.pygments .no { color: #880000 } /* Name.Constant */\n.pygments .nd { color: #AA22FF } /* Name.Decorator */\n.pygments .ni { color: #999999; font-weight: bold } /* Name.Entity */\n.pygments .ne { color: #D2413A; font-weight: bold } /* Name.Exception */\n.pygments .nf { color: #0000FF } /* Name.Function */\n.pygments .nl { color: #A0A000 } /* Name.Label */\n.pygments .nn { color: #0000FF; font-weight: bold } /* Name.Namespace */\n.pygments .nt { color: #008000; font-weight: bold } /* Name.Tag */\n.pygments .nv { color: #19177C } /* Name.Variable */\n.pygments .ow { color: #AA22FF; font-weight: bold } /* Operator.Word */\n.pygments .w { color: #bbbbbb } /* Text.Whitespace */\n.pygments .mb { color: #666666 } /* Literal.Number.Bin */\n.pygments .mf { color: #666666 } /* Literal.Number.Float */\n.pygments .mh { color: #666666 } /* Literal.Number.Hex */\n.pygments .mi { color: #666666 } /* Literal.Number.Integer */\n.pygments .mo { color: #666666 } /* Literal.Number.Oct */\n.pygments .sa { color: #BA2121 } /* Literal.String.Affix */\n.pygments .sb { color: #BA2121 } /* Literal.String.Backtick */\n.pygments .sc { color: #BA2121 } /* Literal.String.Char */\n.pygments .dl { color: #BA2121 } /* Literal.String.Delimiter */\n.pygments .sd { color: #BA2121; font-style: italic } /* Literal.String.Doc */\n.pygments .s2 { color: #BA2121 } /* Literal.String.Double */\n.pygments .se { color: #BB6622; font-weight: bold } /* Literal.String.Escape */\n.pygments .sh { color: #BA2121 } /* Literal.String.Heredoc */\n.pygments .si { color: #BB6688; font-weight: bold } /* Literal.String.Interpol */\n.pygments .sx { color: #008000 } /* Literal.String.Other */\n.pygments .sr { color: #BB6688 } /* Literal.String.Regex */\n.pygments .s1 { color: #BA2121 } /* Literal.String.Single */\n.pygments .ss { color: #19177C } /* Literal.String.Symbol */\n.pygments .bp { color: #008000 } /* Name.Builtin.Pseudo */\n.pygments .fm { color: #0000FF } /* Name.Function.Magic */\n.pygments .vc { color: #19177C } /* Name.Variable.Class */\n.pygments .vg { color: #19177C } /* Name.Variable.Global */\n.pygments .vi { color: #19177C } /* Name.Variable.Instance */\n.pygments .vm { color: #19177C } /* Name.Variable.Magic */\n.pygments .il { color: #666666 } /* Literal.Number.Integer.Long */</style><div class=\"pygments\"><pre><span></span><span class=\"k\">def</span> <span class=\"nf\">redness</span><span class=\"p\">(</span><span class=\"n\">img</span><span class=\"p\">:</span> <span class=\"n\">Image</span><span class=\"o\">.</span><span class=\"n\">Image</span><span class=\"p\">)</span> <span class=\"o\">-&gt;</span> <span class=\"nb\">float</span><span class=\"p\">:</span>\n    <span class=\"sd\">&quot;&quot;&quot;Return the redness of a PIL image.&quot;&quot;&quot;</span>\n    <span class=\"n\">M</span> <span class=\"o\">=</span> <span class=\"n\">np</span><span class=\"o\">.</span><span class=\"n\">array</span><span class=\"p\">(</span><span class=\"n\">img</span><span class=\"p\">)</span>\n    <span class=\"n\">R</span> <span class=\"o\">=</span> <span class=\"n\">M</span><span class=\"p\">[:,</span> <span class=\"p\">:,</span> <span class=\"mi\">0</span><span class=\"p\">]</span> <span class=\"o\">*</span> <span class=\"mf\">1.0</span>\n    <span class=\"n\">G</span> <span class=\"o\">=</span> <span class=\"n\">M</span><span class=\"p\">[:,</span> <span class=\"p\">:,</span> <span class=\"mi\">1</span><span class=\"p\">]</span> <span class=\"o\">*</span> <span class=\"mf\">1.0</span>\n    <span class=\"k\">return</span> <span class=\"n\">np</span><span class=\"o\">.</span><span class=\"n\">mean</span><span class=\"p\">((</span><span class=\"n\">R</span> <span class=\"o\">-</span> <span class=\"n\">G</span><span class=\"p\">)[</span><span class=\"n\">foreground_filter</span><span class=\"p\">(</span><span class=\"n\">img</span><span class=\"p\">)])</span>\n</pre></div>\n"
     },
     "metadata": {}
    }
   ],
   "source": [
    "show_source(redness)"
   ]
  },
  {
   "cell_type": "code",
   "execution_count": null,
   "metadata": {},
   "outputs": [],
   "source": []
  }
 ],
 "metadata": {
  "kernelspec": {
   "display_name": "Python 3",
   "language": "python",
   "name": "python3"
  }
 },
 "nbformat": 4,
 "nbformat_minor": 5
}