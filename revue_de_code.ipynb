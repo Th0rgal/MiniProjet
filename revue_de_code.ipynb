{
 "cells": [
  {
   "cell_type": "markdown",
   "metadata": {
    "deletable": false,
    "editable": false,
    "nbgrader": {
     "cell_type": "markdown",
     "checksum": "44cf4126242c8dc2fc69d0667b4f779f",
     "grade": false,
     "grade_id": "cell-968213bd3d7acded",
     "locked": true,
     "points": 2,
     "schema_version": 3,
     "solution": false,
     "task": true
    }
   },
   "source": [
    "# Revue de code\n",
    "\n",
    "Cette feuille vous permet à vous et votre instructeur d'évaluer\n",
    "rapidement la qualité de votre code. Elle s'appuye notamment sur\n",
    "l'outil `flake8` qui vérifie que votre code respecte les conventions\n",
    "de codage usuelles de Python, telles que définies notamment par le\n",
    "document [PEP 8](https://www.python.org/dev/peps/pep-0008/). Si la\n",
    "cellule suivante affiche des avertissements, suivez les indications\n",
    "données pour peaufiner votre code."
   ]
  },
  {
   "cell_type": "code",
   "execution_count": null,
   "metadata": {
    "deletable": false,
    "editable": false,
    "nbgrader": {
     "cell_type": "code",
     "checksum": "4b4e38c706372311d22dc5ed958117db",
     "grade": false,
     "grade_id": "cell-ce5cf24a9e83ff0e",
     "locked": true,
     "schema_version": 3,
     "solution": false,
     "task": false
    }
   },
   "outputs": [],
   "source": [
    "!flake8 utilities.py"
   ]
  },
  {
   "cell_type": "markdown",
   "metadata": {
    "deletable": false,
    "editable": false,
    "nbgrader": {
     "cell_type": "markdown",
     "checksum": "262bc269b193430150991dce11046e27",
     "grade": false,
     "grade_id": "cell-f71789cc0d1d301e",
     "locked": true,
     "schema_version": 3,
     "solution": false,
     "task": false
    }
   },
   "source": [
    "Cette cellule signale une erreur s'il reste des avertissements non corrigés:"
   ]
  },
  {
   "cell_type": "code",
   "execution_count": null,
   "metadata": {
    "deletable": false,
    "editable": false,
    "nbgrader": {
     "cell_type": "code",
     "checksum": "49e7e699711c11f6d7d0853bec7071f3",
     "grade": true,
     "grade_id": "cell-c2dade1bd6fe0fa2",
     "locked": true,
     "points": 1,
     "schema_version": 3,
     "solution": false,
     "task": false
    }
   },
   "outputs": [],
   "source": [
    "import subprocess\n",
    "subprocess.run([\"flake8\", \"utilities.py\"], check=True);"
   ]
  },
  {
   "cell_type": "code",
   "execution_count": null,
   "metadata": {
    "deletable": false,
    "editable": false,
    "nbgrader": {
     "cell_type": "code",
     "checksum": "f9927335fbe9ee22dd358ad42bf5ad9c",
     "grade": false,
     "grade_id": "cell-02fdfd0f26c0bf83",
     "locked": true,
     "schema_version": 3,
     "solution": false,
     "task": false
    }
   },
   "outputs": [],
   "source": [
    "from utilities import *"
   ]
  },
  {
   "cell_type": "markdown",
   "metadata": {
    "deletable": false,
    "editable": false,
    "nbgrader": {
     "cell_type": "markdown",
     "checksum": "cc221a9f4dcf88797575b75d1d34ec3e",
     "grade": false,
     "grade_id": "cell-65669d74fb4c5c28",
     "locked": true,
     "schema_version": 3,
     "solution": false,
     "task": false
    }
   },
   "source": [
    "Faites afficher ci-dessous le code de toutes vos fonctions:"
   ]
  },
  {
   "cell_type": "code",
   "execution_count": null,
   "metadata": {
    "deletable": false,
    "editable": false,
    "nbgrader": {
     "cell_type": "code",
     "checksum": "56d258ce4d12ec8073a5ba53702311e2",
     "grade": false,
     "grade_id": "cell-006fb180e6a86e73",
     "locked": true,
     "schema_version": 3,
     "solution": false,
     "task": false
    }
   },
   "outputs": [],
   "source": [
    "show_source(show_color_channels)"
   ]
  }
 ],
 "metadata": {
  "kernelspec": {
   "display_name": "Python 3",
   "language": "python",
   "name": "python3"
  }
 },
 "nbformat": 4,
 "nbformat_minor": 5
}
