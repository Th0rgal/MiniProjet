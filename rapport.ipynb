{
 "metadata": {
  "language_info": {
   "codemirror_mode": {
    "name": "ipython",
    "version": 3
   },
   "file_extension": ".py",
   "mimetype": "text/x-python",
   "name": "python",
   "nbconvert_exporter": "python",
   "pygments_lexer": "ipython3",
   "version": 3
  },
  "orig_nbformat": 2
 },
 "nbformat": 4,
 "nbformat_minor": 2,
 "cells": [
  {
   "source": [
    "# Rapport \"Humeur d'une musique\"\n",
    "\n",
    "## Groupe:\n",
    "- Thomas Marchand LDD1 IM2\n",
    "- Frédéric Beceril LDD1 IM2\n",
    "\n",
    "## Jeux de données:\n",
    "Avant de nous risquer à quelque chose de plus dur, nous avons commencé par réaliser un classifier de référence avec le jeu de données `ZeroOne`, ce dernier est contenu dans le dossier ``./data/ZeroOne``. La feuille jupyter relative à ce dataset est contenue dans le dossier courant et se nomme ``analyse_de_donnees.ipynb``. Nous avons ensuite décidé de faire un classifier *original*. En effet nous n'avions joué qu'avec des images pendant les TD précédent et on s'est dit que ça pourrait être intéressant d'essayer avec de la musique ou du texte, mais nous avons gardé l'idée du texte pour le prochain projet :) !\n",
    "L'idée a donc été de créer un classifier capable de détecter si une musique est triste ou joyeuse. Nous avons pour cela téléchargé un total de 20 musiques (10 \"joyeuses\" et 10 \"tristes\") que nous avons placées dans le dossier ``./data/musics``.\n",
    "\n",
    "## Performances de référence\n",
    "Frédéric c'est pour toi : à quel point c'était pourri avant spectral centroid, et à quel poitn était-ce mieux après ? Parle aussi de la démarche conseillée par le prof de TD même si ça n'a pas abouti\n",
    "\n",
    "## Classifieurs alternatifs\n",
    "todo\n",
    "\n",
    "## Conclusion\n",
    "Vos conclusions: quelle méthode est la plus performante? Votre jeu de tests était-il facile ou difficile à classifier? À votre avis, pourquoi?\n",
    "Répartition du travail\n",
    "Difficultés rencontrées\n",
    "\n"
   ],
   "cell_type": "markdown",
   "metadata": {}
  },
  {
   "cell_type": "code",
   "execution_count": null,
   "metadata": {},
   "outputs": [],
   "source": []
  }
 ]
}